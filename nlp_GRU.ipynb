{
  "nbformat": 4,
  "nbformat_minor": 0,
  "metadata": {
    "colab": {
      "name": "nlp-GRU.ipynb",
      "provenance": [],
      "authorship_tag": "ABX9TyOVrv25CWwVLgzxyzjC6ymm",
      "include_colab_link": true
    },
    "kernelspec": {
      "name": "python3",
      "display_name": "Python 3"
    },
    "language_info": {
      "name": "python"
    }
  },
  "cells": [
    {
      "cell_type": "markdown",
      "metadata": {
        "id": "view-in-github",
        "colab_type": "text"
      },
      "source": [
        "<a href=\"https://colab.research.google.com/github/yasinsoylu1997/sentiment-analysis-GRU/blob/main/nlp_GRU.ipynb\" target=\"_parent\"><img src=\"https://colab.research.google.com/assets/colab-badge.svg\" alt=\"Open In Colab\"/></a>"
      ]
    },
    {
      "cell_type": "code",
      "metadata": {
        "id": "HN8A8X-0dBoZ"
      },
      "source": [
        ""
      ],
      "execution_count": null,
      "outputs": []
    },
    {
      "cell_type": "code",
      "metadata": {
        "id": "OeMVO--bImWy"
      },
      "source": [
        "import numpy as np\n",
        "import pandas as pd\n",
        "import matplotlib.pyplot as plt\n",
        "import tensorflow as tf\n",
        "from sklearn.metrics import confusion_matrix, classification_report, accuracy_score\n",
        "from nltk.corpus import stopwords\n",
        "from nltk.tokenize import word_tokenize\n",
        "from tensorflow.python.keras.models import Sequential\n",
        "from tensorflow.python.keras.layers import Dense, GRU, Embedding, CuDNNGRU\n",
        "from tensorflow.python.keras.preprocessing.text import Tokenizer\n",
        "from tensorflow.keras.optimizers import Adam\n",
        "import re\n",
        "from sklearn.model_selection import train_test_split \n",
        "from wordcloud import WordCloud, STOPWORDS, ImageColorGenerator\n",
        "import nltk\n",
        "\n",
        "from tensorflow.python.keras.preprocessing.sequence import pad_sequences"
      ],
      "execution_count": null,
      "outputs": []
    },
    {
      "cell_type": "code",
      "metadata": {
        "id": "wcw_gfCkhAqh"
      },
      "source": [
        "dataset = pd.read_csv('hepsiburada.csv')"
      ],
      "execution_count": null,
      "outputs": []
    },
    {
      "cell_type": "code",
      "metadata": {
        "colab": {
          "base_uri": "https://localhost:8080/"
        },
        "id": "msyl4KVeLRhl",
        "outputId": "921fb47a-17c4-4594-87e1-b429d56e486a"
      },
      "source": [
        "dataset"
      ],
      "execution_count": null,
      "outputs": [
        {
          "output_type": "execute_result",
          "data": {
            "text/html": [
              "<div>\n",
              "<style scoped>\n",
              "    .dataframe tbody tr th:only-of-type {\n",
              "        vertical-align: middle;\n",
              "    }\n",
              "\n",
              "    .dataframe tbody tr th {\n",
              "        vertical-align: top;\n",
              "    }\n",
              "\n",
              "    .dataframe thead th {\n",
              "        text-align: right;\n",
              "    }\n",
              "</style>\n",
              "<table border=\"1\" class=\"dataframe\">\n",
              "  <thead>\n",
              "    <tr style=\"text-align: right;\">\n",
              "      <th></th>\n",
              "      <th>yildizSayisi</th>\n",
              "      <th>yorum</th>\n",
              "      <th>yorumLike</th>\n",
              "      <th>yorumDislike</th>\n",
              "    </tr>\n",
              "  </thead>\n",
              "  <tbody>\n",
              "    <tr>\n",
              "      <th>0</th>\n",
              "      <td>5</td>\n",
              "      <td>I bought this mouse for my home computer and i...</td>\n",
              "      <td>14</td>\n",
              "      <td>4</td>\n",
              "    </tr>\n",
              "    <tr>\n",
              "      <th>1</th>\n",
              "      <td>5</td>\n",
              "      <td>Ürünü yaklaşık 3 aydır kullanıyorum. Hem ergon...</td>\n",
              "      <td>6</td>\n",
              "      <td>0</td>\n",
              "    </tr>\n",
              "    <tr>\n",
              "      <th>2</th>\n",
              "      <td>5</td>\n",
              "      <td>Teknolojiden çok anlayan biri değilim, sadece ...</td>\n",
              "      <td>1</td>\n",
              "      <td>0</td>\n",
              "    </tr>\n",
              "    <tr>\n",
              "      <th>3</th>\n",
              "      <td>5</td>\n",
              "      <td>Perfect</td>\n",
              "      <td>3</td>\n",
              "      <td>0</td>\n",
              "    </tr>\n",
              "    <tr>\n",
              "      <th>4</th>\n",
              "      <td>5</td>\n",
              "      <td>Ürünün yapısı oldukça ergonomik, işte kullanma...</td>\n",
              "      <td>2</td>\n",
              "      <td>0</td>\n",
              "    </tr>\n",
              "    <tr>\n",
              "      <th>...</th>\n",
              "      <td>...</td>\n",
              "      <td>...</td>\n",
              "      <td>...</td>\n",
              "      <td>...</td>\n",
              "    </tr>\n",
              "    <tr>\n",
              "      <th>479237</th>\n",
              "      <td>1</td>\n",
              "      <td>Bana hiç iyi gelmedi dökülmeyi durdurmadığı gi...</td>\n",
              "      <td>4</td>\n",
              "      <td>4</td>\n",
              "    </tr>\n",
              "    <tr>\n",
              "      <th>479238</th>\n",
              "      <td>5</td>\n",
              "      <td>Ürünler bir gün içinde elimdeydi.teşekkürler..</td>\n",
              "      <td>3</td>\n",
              "      <td>6</td>\n",
              "    </tr>\n",
              "    <tr>\n",
              "      <th>479239</th>\n",
              "      <td>1</td>\n",
              "      <td>Arkadaşlar ben aldım 1 ay kullandım saç dökülm...</td>\n",
              "      <td>10</td>\n",
              "      <td>27</td>\n",
              "    </tr>\n",
              "    <tr>\n",
              "      <th>479240</th>\n",
              "      <td>3</td>\n",
              "      <td>Saç dökülmesi konusunda herhangi bir şampuanda...</td>\n",
              "      <td>10</td>\n",
              "      <td>3</td>\n",
              "    </tr>\n",
              "    <tr>\n",
              "      <th>479241</th>\n",
              "      <td>1</td>\n",
              "      <td>saç dökülmesi için aldım ama hiç faydası olmad...</td>\n",
              "      <td>7</td>\n",
              "      <td>29</td>\n",
              "    </tr>\n",
              "  </tbody>\n",
              "</table>\n",
              "<p>479242 rows × 4 columns</p>\n",
              "</div>"
            ],
            "text/plain": [
              "        yildizSayisi  ... yorumDislike\n",
              "0                  5  ...            4\n",
              "1                  5  ...            0\n",
              "2                  5  ...            0\n",
              "3                  5  ...            0\n",
              "4                  5  ...            0\n",
              "...              ...  ...          ...\n",
              "479237             1  ...            4\n",
              "479238             5  ...            6\n",
              "479239             1  ...           27\n",
              "479240             3  ...            3\n",
              "479241             1  ...           29\n",
              "\n",
              "[479242 rows x 4 columns]"
            ]
          },
          "metadata": {},
          "execution_count": 88
        }
      ]
    },
    {
      "cell_type": "code",
      "metadata": {
        "colab": {
          "base_uri": "https://localhost:8080/",
          "height": 424
        },
        "id": "Da7yJj2CGZ_9",
        "outputId": "03eaac69-34a5-4697-854a-4006d1a6abb3"
      },
      "source": [
        "dataset.dropna()"
      ],
      "execution_count": null,
      "outputs": [
        {
          "output_type": "execute_result",
          "data": {
            "text/html": [
              "<div>\n",
              "<style scoped>\n",
              "    .dataframe tbody tr th:only-of-type {\n",
              "        vertical-align: middle;\n",
              "    }\n",
              "\n",
              "    .dataframe tbody tr th {\n",
              "        vertical-align: top;\n",
              "    }\n",
              "\n",
              "    .dataframe thead th {\n",
              "        text-align: right;\n",
              "    }\n",
              "</style>\n",
              "<table border=\"1\" class=\"dataframe\">\n",
              "  <thead>\n",
              "    <tr style=\"text-align: right;\">\n",
              "      <th></th>\n",
              "      <th>yildizSayisi</th>\n",
              "      <th>yorum</th>\n",
              "      <th>yorumLike</th>\n",
              "      <th>yorumDislike</th>\n",
              "    </tr>\n",
              "  </thead>\n",
              "  <tbody>\n",
              "    <tr>\n",
              "      <th>0</th>\n",
              "      <td>5</td>\n",
              "      <td>I bought this mouse for my home computer and i...</td>\n",
              "      <td>14</td>\n",
              "      <td>4</td>\n",
              "    </tr>\n",
              "    <tr>\n",
              "      <th>1</th>\n",
              "      <td>5</td>\n",
              "      <td>Ürünü yaklaşık 3 aydır kullanıyorum. Hem ergon...</td>\n",
              "      <td>6</td>\n",
              "      <td>0</td>\n",
              "    </tr>\n",
              "    <tr>\n",
              "      <th>2</th>\n",
              "      <td>5</td>\n",
              "      <td>Teknolojiden çok anlayan biri değilim, sadece ...</td>\n",
              "      <td>1</td>\n",
              "      <td>0</td>\n",
              "    </tr>\n",
              "    <tr>\n",
              "      <th>3</th>\n",
              "      <td>5</td>\n",
              "      <td>Perfect</td>\n",
              "      <td>3</td>\n",
              "      <td>0</td>\n",
              "    </tr>\n",
              "    <tr>\n",
              "      <th>4</th>\n",
              "      <td>5</td>\n",
              "      <td>Ürünün yapısı oldukça ergonomik, işte kullanma...</td>\n",
              "      <td>2</td>\n",
              "      <td>0</td>\n",
              "    </tr>\n",
              "    <tr>\n",
              "      <th>...</th>\n",
              "      <td>...</td>\n",
              "      <td>...</td>\n",
              "      <td>...</td>\n",
              "      <td>...</td>\n",
              "    </tr>\n",
              "    <tr>\n",
              "      <th>479237</th>\n",
              "      <td>1</td>\n",
              "      <td>Bana hiç iyi gelmedi dökülmeyi durdurmadığı gi...</td>\n",
              "      <td>4</td>\n",
              "      <td>4</td>\n",
              "    </tr>\n",
              "    <tr>\n",
              "      <th>479238</th>\n",
              "      <td>5</td>\n",
              "      <td>Ürünler bir gün içinde elimdeydi.teşekkürler..</td>\n",
              "      <td>3</td>\n",
              "      <td>6</td>\n",
              "    </tr>\n",
              "    <tr>\n",
              "      <th>479239</th>\n",
              "      <td>1</td>\n",
              "      <td>Arkadaşlar ben aldım 1 ay kullandım saç dökülm...</td>\n",
              "      <td>10</td>\n",
              "      <td>27</td>\n",
              "    </tr>\n",
              "    <tr>\n",
              "      <th>479240</th>\n",
              "      <td>3</td>\n",
              "      <td>Saç dökülmesi konusunda herhangi bir şampuanda...</td>\n",
              "      <td>10</td>\n",
              "      <td>3</td>\n",
              "    </tr>\n",
              "    <tr>\n",
              "      <th>479241</th>\n",
              "      <td>1</td>\n",
              "      <td>saç dökülmesi için aldım ama hiç faydası olmad...</td>\n",
              "      <td>7</td>\n",
              "      <td>29</td>\n",
              "    </tr>\n",
              "  </tbody>\n",
              "</table>\n",
              "<p>479242 rows × 4 columns</p>\n",
              "</div>"
            ],
            "text/plain": [
              "        yildizSayisi  ... yorumDislike\n",
              "0                  5  ...            4\n",
              "1                  5  ...            0\n",
              "2                  5  ...            0\n",
              "3                  5  ...            0\n",
              "4                  5  ...            0\n",
              "...              ...  ...          ...\n",
              "479237             1  ...            4\n",
              "479238             5  ...            6\n",
              "479239             1  ...           27\n",
              "479240             3  ...            3\n",
              "479241             1  ...           29\n",
              "\n",
              "[479242 rows x 4 columns]"
            ]
          },
          "metadata": {},
          "execution_count": 89
        }
      ]
    },
    {
      "cell_type": "code",
      "metadata": {
        "id": "T7fdXnfBGaO8"
      },
      "source": [
        "dataset[\"yildizSayisi\"] = dataset.yildizSayisi.astype(float)\n"
      ],
      "execution_count": null,
      "outputs": []
    },
    {
      "cell_type": "code",
      "metadata": {
        "id": "jGDS9K9LPNIs"
      },
      "source": [
        "def sentiments(df):\n",
        "  if df['yildizSayisi'] > 3.9:\n",
        "    return 'Positive'\n",
        "  elif df['yildizSayisi'] <= 3.0:\n",
        "    return 'Negative'\n",
        "dataset['sentiment'] = dataset.apply(sentiments, axis=1)"
      ],
      "execution_count": null,
      "outputs": []
    },
    {
      "cell_type": "code",
      "metadata": {
        "colab": {
          "base_uri": "https://localhost:8080/"
        },
        "id": "2qvFtXUVOmo6",
        "outputId": "5d76a23e-e38b-404c-c91e-c13177895bc1"
      },
      "source": [
        "dataset.info()"
      ],
      "execution_count": null,
      "outputs": [
        {
          "output_type": "stream",
          "name": "stdout",
          "text": [
            "<class 'pandas.core.frame.DataFrame'>\n",
            "RangeIndex: 479242 entries, 0 to 479241\n",
            "Data columns (total 5 columns):\n",
            " #   Column        Non-Null Count   Dtype  \n",
            "---  ------        --------------   -----  \n",
            " 0   yildizSayisi  479242 non-null  float64\n",
            " 1   yorum         479242 non-null  object \n",
            " 2   yorumLike     479242 non-null  int64  \n",
            " 3   yorumDislike  479242 non-null  int64  \n",
            " 4   sentiment     479242 non-null  object \n",
            "dtypes: float64(1), int64(2), object(2)\n",
            "memory usage: 18.3+ MB\n"
          ]
        }
      ]
    },
    {
      "cell_type": "code",
      "metadata": {
        "colab": {
          "base_uri": "https://localhost:8080/"
        },
        "id": "A62IJZ08JxQe",
        "outputId": "7d035010-dfad-4830-ea57-6b930437aa33"
      },
      "source": [
        "dataset"
      ],
      "execution_count": null,
      "outputs": [
        {
          "output_type": "execute_result",
          "data": {
            "text/html": [
              "<div>\n",
              "<style scoped>\n",
              "    .dataframe tbody tr th:only-of-type {\n",
              "        vertical-align: middle;\n",
              "    }\n",
              "\n",
              "    .dataframe tbody tr th {\n",
              "        vertical-align: top;\n",
              "    }\n",
              "\n",
              "    .dataframe thead th {\n",
              "        text-align: right;\n",
              "    }\n",
              "</style>\n",
              "<table border=\"1\" class=\"dataframe\">\n",
              "  <thead>\n",
              "    <tr style=\"text-align: right;\">\n",
              "      <th></th>\n",
              "      <th>yildizSayisi</th>\n",
              "      <th>yorum</th>\n",
              "      <th>yorumLike</th>\n",
              "      <th>yorumDislike</th>\n",
              "      <th>sentiment</th>\n",
              "    </tr>\n",
              "  </thead>\n",
              "  <tbody>\n",
              "    <tr>\n",
              "      <th>0</th>\n",
              "      <td>5.0</td>\n",
              "      <td>I bought this mouse for my home computer and i...</td>\n",
              "      <td>14</td>\n",
              "      <td>4</td>\n",
              "      <td>Positive</td>\n",
              "    </tr>\n",
              "    <tr>\n",
              "      <th>1</th>\n",
              "      <td>5.0</td>\n",
              "      <td>Ürünü yaklaşık 3 aydır kullanıyorum. Hem ergon...</td>\n",
              "      <td>6</td>\n",
              "      <td>0</td>\n",
              "      <td>Positive</td>\n",
              "    </tr>\n",
              "    <tr>\n",
              "      <th>2</th>\n",
              "      <td>5.0</td>\n",
              "      <td>Teknolojiden çok anlayan biri değilim, sadece ...</td>\n",
              "      <td>1</td>\n",
              "      <td>0</td>\n",
              "      <td>Positive</td>\n",
              "    </tr>\n",
              "    <tr>\n",
              "      <th>3</th>\n",
              "      <td>5.0</td>\n",
              "      <td>Perfect</td>\n",
              "      <td>3</td>\n",
              "      <td>0</td>\n",
              "      <td>Positive</td>\n",
              "    </tr>\n",
              "    <tr>\n",
              "      <th>4</th>\n",
              "      <td>5.0</td>\n",
              "      <td>Ürünün yapısı oldukça ergonomik, işte kullanma...</td>\n",
              "      <td>2</td>\n",
              "      <td>0</td>\n",
              "      <td>Positive</td>\n",
              "    </tr>\n",
              "    <tr>\n",
              "      <th>...</th>\n",
              "      <td>...</td>\n",
              "      <td>...</td>\n",
              "      <td>...</td>\n",
              "      <td>...</td>\n",
              "      <td>...</td>\n",
              "    </tr>\n",
              "    <tr>\n",
              "      <th>479237</th>\n",
              "      <td>1.0</td>\n",
              "      <td>Bana hiç iyi gelmedi dökülmeyi durdurmadığı gi...</td>\n",
              "      <td>4</td>\n",
              "      <td>4</td>\n",
              "      <td>Negative</td>\n",
              "    </tr>\n",
              "    <tr>\n",
              "      <th>479238</th>\n",
              "      <td>5.0</td>\n",
              "      <td>Ürünler bir gün içinde elimdeydi.teşekkürler..</td>\n",
              "      <td>3</td>\n",
              "      <td>6</td>\n",
              "      <td>Positive</td>\n",
              "    </tr>\n",
              "    <tr>\n",
              "      <th>479239</th>\n",
              "      <td>1.0</td>\n",
              "      <td>Arkadaşlar ben aldım 1 ay kullandım saç dökülm...</td>\n",
              "      <td>10</td>\n",
              "      <td>27</td>\n",
              "      <td>Negative</td>\n",
              "    </tr>\n",
              "    <tr>\n",
              "      <th>479240</th>\n",
              "      <td>3.0</td>\n",
              "      <td>Saç dökülmesi konusunda herhangi bir şampuanda...</td>\n",
              "      <td>10</td>\n",
              "      <td>3</td>\n",
              "      <td>Negative</td>\n",
              "    </tr>\n",
              "    <tr>\n",
              "      <th>479241</th>\n",
              "      <td>1.0</td>\n",
              "      <td>saç dökülmesi için aldım ama hiç faydası olmad...</td>\n",
              "      <td>7</td>\n",
              "      <td>29</td>\n",
              "      <td>Negative</td>\n",
              "    </tr>\n",
              "  </tbody>\n",
              "</table>\n",
              "<p>479242 rows × 5 columns</p>\n",
              "</div>"
            ],
            "text/plain": [
              "        yildizSayisi  ... sentiment\n",
              "0                5.0  ...  Positive\n",
              "1                5.0  ...  Positive\n",
              "2                5.0  ...  Positive\n",
              "3                5.0  ...  Positive\n",
              "4                5.0  ...  Positive\n",
              "...              ...  ...       ...\n",
              "479237           1.0  ...  Negative\n",
              "479238           5.0  ...  Positive\n",
              "479239           1.0  ...  Negative\n",
              "479240           3.0  ...  Negative\n",
              "479241           1.0  ...  Negative\n",
              "\n",
              "[479242 rows x 5 columns]"
            ]
          },
          "metadata": {},
          "execution_count": 93
        }
      ]
    },
    {
      "cell_type": "code",
      "metadata": {
        "id": "-bwXEYq2W0oX"
      },
      "source": [
        "dataset['yorum'] = dataset['yorum'].apply(lambda x: x.lower())"
      ],
      "execution_count": null,
      "outputs": []
    },
    {
      "cell_type": "code",
      "metadata": {
        "colab": {
          "base_uri": "https://localhost:8080/"
        },
        "id": "5QBlQGv6W7Ki",
        "outputId": "74a2ccb6-38dd-4b8f-fefd-75d04f54c231"
      },
      "source": [
        "print(dataset[ dataset['sentiment'] == 'Positive'].size)\n",
        "print(dataset[ dataset['sentiment'] == 'Negative'].size)"
      ],
      "execution_count": null,
      "outputs": [
        {
          "output_type": "stream",
          "name": "stdout",
          "text": [
            "2171905\n",
            "224305\n"
          ]
        }
      ]
    },
    {
      "cell_type": "code",
      "metadata": {
        "id": "86y_6mRKWTwu"
      },
      "source": [
        "data_pos = dataset[ dataset['sentiment'] == 'Positive']\n",
        "data_pos = dataset['yorum']\n",
        "data_neg = dataset[ dataset['sentiment'] == 'Negative']\n",
        "data_neg = dataset['yorum']"
      ],
      "execution_count": null,
      "outputs": []
    },
    {
      "cell_type": "code",
      "metadata": {
        "id": "_SZGNlG4T-8W"
      },
      "source": [
        "def wordcloud_draw(dataset, color = 'black'):\n",
        "    words = ' '.join(dataset)\n",
        "    cleaned_word = \" \".join([word for word in words.split()\n",
        "                            if 'http' not in word\n",
        "                                and not word.startswith('@')\n",
        "                                and not word.startswith('#')\n",
        "                                and word != 'RT'\n",
        "                            ])\n",
        "    wordcloud = WordCloud(stopwords=STOPWORDS,\n",
        "                      background_color=color,\n",
        "                      width=2500,\n",
        "                      height=2000\n",
        "                     ).generate(cleaned_word)\n",
        "    plt.figure(1,figsize=(13, 13))\n",
        "    plt.imshow(wordcloud)\n",
        "    plt.axis('off')\n",
        "    plt.show()"
      ],
      "execution_count": null,
      "outputs": []
    },
    {
      "cell_type": "code",
      "metadata": {
        "colab": {
          "base_uri": "https://localhost:8080/"
        },
        "id": "e7QnvEw0JQNz",
        "outputId": "9f18daec-bc13-40ff-d117-12858ebf6df0"
      },
      "source": [
        "print(\"Positive words\")\n",
        "#wordcloud_draw(data_pos,'white')"
      ],
      "execution_count": null,
      "outputs": [
        {
          "output_type": "stream",
          "name": "stdout",
          "text": [
            "Positive words\n"
          ]
        }
      ]
    },
    {
      "cell_type": "code",
      "metadata": {
        "colab": {
          "base_uri": "https://localhost:8080/"
        },
        "id": "EY6IZNegJStU",
        "outputId": "2ad9d279-c47a-4bb8-9f5a-ee9e42320443"
      },
      "source": [
        "print(\"Negative words\")\n",
        "#wordcloud_draw(data_neg)"
      ],
      "execution_count": null,
      "outputs": [
        {
          "output_type": "stream",
          "name": "stdout",
          "text": [
            "Negative words\n"
          ]
        }
      ]
    },
    {
      "cell_type": "code",
      "metadata": {
        "colab": {
          "base_uri": "https://localhost:8080/"
        },
        "id": "QOrCqxbjLHGi",
        "outputId": "f9e2c829-1d58-4295-d23f-224ada86de2a"
      },
      "source": [
        "dataset"
      ],
      "execution_count": null,
      "outputs": [
        {
          "output_type": "execute_result",
          "data": {
            "text/html": [
              "<div>\n",
              "<style scoped>\n",
              "    .dataframe tbody tr th:only-of-type {\n",
              "        vertical-align: middle;\n",
              "    }\n",
              "\n",
              "    .dataframe tbody tr th {\n",
              "        vertical-align: top;\n",
              "    }\n",
              "\n",
              "    .dataframe thead th {\n",
              "        text-align: right;\n",
              "    }\n",
              "</style>\n",
              "<table border=\"1\" class=\"dataframe\">\n",
              "  <thead>\n",
              "    <tr style=\"text-align: right;\">\n",
              "      <th></th>\n",
              "      <th>yildizSayisi</th>\n",
              "      <th>yorum</th>\n",
              "      <th>yorumLike</th>\n",
              "      <th>yorumDislike</th>\n",
              "      <th>sentiment</th>\n",
              "    </tr>\n",
              "  </thead>\n",
              "  <tbody>\n",
              "    <tr>\n",
              "      <th>0</th>\n",
              "      <td>5.0</td>\n",
              "      <td>i bought this mouse for my home computer and i...</td>\n",
              "      <td>14</td>\n",
              "      <td>4</td>\n",
              "      <td>Positive</td>\n",
              "    </tr>\n",
              "    <tr>\n",
              "      <th>1</th>\n",
              "      <td>5.0</td>\n",
              "      <td>ürünü yaklaşık 3 aydır kullanıyorum. hem ergon...</td>\n",
              "      <td>6</td>\n",
              "      <td>0</td>\n",
              "      <td>Positive</td>\n",
              "    </tr>\n",
              "    <tr>\n",
              "      <th>2</th>\n",
              "      <td>5.0</td>\n",
              "      <td>teknolojiden çok anlayan biri değilim, sadece ...</td>\n",
              "      <td>1</td>\n",
              "      <td>0</td>\n",
              "      <td>Positive</td>\n",
              "    </tr>\n",
              "    <tr>\n",
              "      <th>3</th>\n",
              "      <td>5.0</td>\n",
              "      <td>perfect</td>\n",
              "      <td>3</td>\n",
              "      <td>0</td>\n",
              "      <td>Positive</td>\n",
              "    </tr>\n",
              "    <tr>\n",
              "      <th>4</th>\n",
              "      <td>5.0</td>\n",
              "      <td>ürünün yapısı oldukça ergonomik, işte kullanma...</td>\n",
              "      <td>2</td>\n",
              "      <td>0</td>\n",
              "      <td>Positive</td>\n",
              "    </tr>\n",
              "    <tr>\n",
              "      <th>...</th>\n",
              "      <td>...</td>\n",
              "      <td>...</td>\n",
              "      <td>...</td>\n",
              "      <td>...</td>\n",
              "      <td>...</td>\n",
              "    </tr>\n",
              "    <tr>\n",
              "      <th>479237</th>\n",
              "      <td>1.0</td>\n",
              "      <td>bana hiç iyi gelmedi dökülmeyi durdurmadığı gi...</td>\n",
              "      <td>4</td>\n",
              "      <td>4</td>\n",
              "      <td>Negative</td>\n",
              "    </tr>\n",
              "    <tr>\n",
              "      <th>479238</th>\n",
              "      <td>5.0</td>\n",
              "      <td>ürünler bir gün içinde elimdeydi.teşekkürler..</td>\n",
              "      <td>3</td>\n",
              "      <td>6</td>\n",
              "      <td>Positive</td>\n",
              "    </tr>\n",
              "    <tr>\n",
              "      <th>479239</th>\n",
              "      <td>1.0</td>\n",
              "      <td>arkadaşlar ben aldım 1 ay kullandım saç dökülm...</td>\n",
              "      <td>10</td>\n",
              "      <td>27</td>\n",
              "      <td>Negative</td>\n",
              "    </tr>\n",
              "    <tr>\n",
              "      <th>479240</th>\n",
              "      <td>3.0</td>\n",
              "      <td>saç dökülmesi konusunda herhangi bir şampuanda...</td>\n",
              "      <td>10</td>\n",
              "      <td>3</td>\n",
              "      <td>Negative</td>\n",
              "    </tr>\n",
              "    <tr>\n",
              "      <th>479241</th>\n",
              "      <td>1.0</td>\n",
              "      <td>saç dökülmesi için aldım ama hiç faydası olmad...</td>\n",
              "      <td>7</td>\n",
              "      <td>29</td>\n",
              "      <td>Negative</td>\n",
              "    </tr>\n",
              "  </tbody>\n",
              "</table>\n",
              "<p>479242 rows × 5 columns</p>\n",
              "</div>"
            ],
            "text/plain": [
              "        yildizSayisi  ... sentiment\n",
              "0                5.0  ...  Positive\n",
              "1                5.0  ...  Positive\n",
              "2                5.0  ...  Positive\n",
              "3                5.0  ...  Positive\n",
              "4                5.0  ...  Positive\n",
              "...              ...  ...       ...\n",
              "479237           1.0  ...  Negative\n",
              "479238           5.0  ...  Positive\n",
              "479239           1.0  ...  Negative\n",
              "479240           3.0  ...  Negative\n",
              "479241           1.0  ...  Negative\n",
              "\n",
              "[479242 rows x 5 columns]"
            ]
          },
          "metadata": {},
          "execution_count": 100
        }
      ]
    },
    {
      "cell_type": "code",
      "metadata": {
        "id": "pFdL4qNuLIj4"
      },
      "source": [
        "data = dataset[['yorum','sentiment']]\n",
        "target = dataset['sentiment'].values"
      ],
      "execution_count": null,
      "outputs": []
    },
    {
      "cell_type": "code",
      "metadata": {
        "colab": {
          "base_uri": "https://localhost:8080/",
          "height": 424
        },
        "id": "FN-oTVwbU0J3",
        "outputId": "a45ca9d5-9a2d-4a5f-fb24-3ed7a3e05647"
      },
      "source": [
        "data"
      ],
      "execution_count": null,
      "outputs": [
        {
          "output_type": "execute_result",
          "data": {
            "text/html": [
              "<div>\n",
              "<style scoped>\n",
              "    .dataframe tbody tr th:only-of-type {\n",
              "        vertical-align: middle;\n",
              "    }\n",
              "\n",
              "    .dataframe tbody tr th {\n",
              "        vertical-align: top;\n",
              "    }\n",
              "\n",
              "    .dataframe thead th {\n",
              "        text-align: right;\n",
              "    }\n",
              "</style>\n",
              "<table border=\"1\" class=\"dataframe\">\n",
              "  <thead>\n",
              "    <tr style=\"text-align: right;\">\n",
              "      <th></th>\n",
              "      <th>yorum</th>\n",
              "      <th>sentiment</th>\n",
              "    </tr>\n",
              "  </thead>\n",
              "  <tbody>\n",
              "    <tr>\n",
              "      <th>0</th>\n",
              "      <td>i bought this mouse for my home computer and i...</td>\n",
              "      <td>Positive</td>\n",
              "    </tr>\n",
              "    <tr>\n",
              "      <th>1</th>\n",
              "      <td>ürünü yaklaşık 3 aydır kullanıyorum. hem ergon...</td>\n",
              "      <td>Positive</td>\n",
              "    </tr>\n",
              "    <tr>\n",
              "      <th>2</th>\n",
              "      <td>teknolojiden çok anlayan biri değilim, sadece ...</td>\n",
              "      <td>Positive</td>\n",
              "    </tr>\n",
              "    <tr>\n",
              "      <th>3</th>\n",
              "      <td>perfect</td>\n",
              "      <td>Positive</td>\n",
              "    </tr>\n",
              "    <tr>\n",
              "      <th>4</th>\n",
              "      <td>ürünün yapısı oldukça ergonomik, işte kullanma...</td>\n",
              "      <td>Positive</td>\n",
              "    </tr>\n",
              "    <tr>\n",
              "      <th>...</th>\n",
              "      <td>...</td>\n",
              "      <td>...</td>\n",
              "    </tr>\n",
              "    <tr>\n",
              "      <th>479237</th>\n",
              "      <td>bana hiç iyi gelmedi dökülmeyi durdurmadığı gi...</td>\n",
              "      <td>Negative</td>\n",
              "    </tr>\n",
              "    <tr>\n",
              "      <th>479238</th>\n",
              "      <td>ürünler bir gün içinde elimdeydi.teşekkürler..</td>\n",
              "      <td>Positive</td>\n",
              "    </tr>\n",
              "    <tr>\n",
              "      <th>479239</th>\n",
              "      <td>arkadaşlar ben aldım 1 ay kullandım saç dökülm...</td>\n",
              "      <td>Negative</td>\n",
              "    </tr>\n",
              "    <tr>\n",
              "      <th>479240</th>\n",
              "      <td>saç dökülmesi konusunda herhangi bir şampuanda...</td>\n",
              "      <td>Negative</td>\n",
              "    </tr>\n",
              "    <tr>\n",
              "      <th>479241</th>\n",
              "      <td>saç dökülmesi için aldım ama hiç faydası olmad...</td>\n",
              "      <td>Negative</td>\n",
              "    </tr>\n",
              "  </tbody>\n",
              "</table>\n",
              "<p>479242 rows × 2 columns</p>\n",
              "</div>"
            ],
            "text/plain": [
              "                                                    yorum sentiment\n",
              "0       i bought this mouse for my home computer and i...  Positive\n",
              "1       ürünü yaklaşık 3 aydır kullanıyorum. hem ergon...  Positive\n",
              "2       teknolojiden çok anlayan biri değilim, sadece ...  Positive\n",
              "3                                                 perfect  Positive\n",
              "4       ürünün yapısı oldukça ergonomik, işte kullanma...  Positive\n",
              "...                                                   ...       ...\n",
              "479237  bana hiç iyi gelmedi dökülmeyi durdurmadığı gi...  Negative\n",
              "479238     ürünler bir gün içinde elimdeydi.teşekkürler..  Positive\n",
              "479239  arkadaşlar ben aldım 1 ay kullandım saç dökülm...  Negative\n",
              "479240  saç dökülmesi konusunda herhangi bir şampuanda...  Negative\n",
              "479241  saç dökülmesi için aldım ama hiç faydası olmad...  Negative\n",
              "\n",
              "[479242 rows x 2 columns]"
            ]
          },
          "metadata": {},
          "execution_count": 102
        }
      ]
    },
    {
      "cell_type": "code",
      "metadata": {
        "colab": {
          "base_uri": "https://localhost:8080/"
        },
        "id": "Mz3Or54KT_GZ",
        "outputId": "226cb887-6ace-4ffc-a569-d114df42e0a6"
      },
      "source": [
        "data['yorum'] = data['yorum'].apply(lambda x: x.lower())\n",
        "data['yorum'] = data['yorum'].apply((lambda x: re.sub('[^a-zA-z0-9\\s]','',x)))\n",
        "\n",
        "print(data[ data['sentiment'] == 'Positive'].size)\n",
        "print(data[ data['sentiment'] == 'Negative'].size)\n",
        "\n",
        "for idx,row in data.iterrows():\n",
        "    row[0] = row[0].replace('rt',' ')\n",
        "    \n",
        "max_fatures = 2000\n",
        "tokenizer = Tokenizer(num_words=max_fatures, split=' ')\n",
        "tokenizer.fit_on_texts(data['yorum'].values)\n",
        "X = tokenizer.texts_to_sequences(data['yorum'].values)\n",
        "X = pad_sequences(X)"
      ],
      "execution_count": null,
      "outputs": [
        {
          "output_type": "stream",
          "name": "stderr",
          "text": [
            "/usr/local/lib/python3.7/dist-packages/ipykernel_launcher.py:1: SettingWithCopyWarning: \n",
            "A value is trying to be set on a copy of a slice from a DataFrame.\n",
            "Try using .loc[row_indexer,col_indexer] = value instead\n",
            "\n",
            "See the caveats in the documentation: https://pandas.pydata.org/pandas-docs/stable/user_guide/indexing.html#returning-a-view-versus-a-copy\n",
            "  \"\"\"Entry point for launching an IPython kernel.\n",
            "/usr/local/lib/python3.7/dist-packages/ipykernel_launcher.py:2: SettingWithCopyWarning: \n",
            "A value is trying to be set on a copy of a slice from a DataFrame.\n",
            "Try using .loc[row_indexer,col_indexer] = value instead\n",
            "\n",
            "See the caveats in the documentation: https://pandas.pydata.org/pandas-docs/stable/user_guide/indexing.html#returning-a-view-versus-a-copy\n",
            "  \n"
          ]
        },
        {
          "output_type": "stream",
          "name": "stdout",
          "text": [
            "868762\n",
            "89722\n"
          ]
        }
      ]
    },
    {
      "cell_type": "code",
      "metadata": {
        "id": "s3dzXzAgMBfq"
      },
      "source": [
        "num_words = 10000\n",
        "tokenizer = Tokenizer(num_words=num_words)"
      ],
      "execution_count": null,
      "outputs": []
    },
    {
      "cell_type": "code",
      "metadata": {
        "id": "ILcnxw0HM8iE"
      },
      "source": [
        "cutoff = int(len(data) * 0.80)\n",
        "x_train, x_test = data[:cutoff], data[cutoff:]\n",
        "y_train, y_test = target[:cutoff], target[cutoff:]"
      ],
      "execution_count": null,
      "outputs": []
    },
    {
      "cell_type": "code",
      "metadata": {
        "id": "oZOAz-noM98B"
      },
      "source": [
        "num_words = 10000\n",
        "tokenizer = Tokenizer(num_words=num_words)"
      ],
      "execution_count": null,
      "outputs": []
    },
    {
      "cell_type": "code",
      "metadata": {
        "id": "EZXr4vDnNB_o"
      },
      "source": [
        "tokenizer.fit_on_texts(data)\n",
        "x_train_tokens = tokenizer.texts_to_sequences(x_train)"
      ],
      "execution_count": null,
      "outputs": []
    },
    {
      "cell_type": "code",
      "metadata": {
        "id": "EYCPpXM1IGz0"
      },
      "source": [
        "tokenizer.fit_on_texts(data)\n",
        "x_test_tokens = tokenizer.texts_to_sequences(x_test)"
      ],
      "execution_count": null,
      "outputs": []
    },
    {
      "cell_type": "code",
      "metadata": {
        "id": "oSiXE2_qYEYo"
      },
      "source": [
        "num_tokens = [len(tokens) for tokens in x_train_tokens + x_test_tokens]\n",
        "num_tokens = np.array(num_tokens)"
      ],
      "execution_count": null,
      "outputs": []
    },
    {
      "cell_type": "code",
      "metadata": {
        "colab": {
          "base_uri": "https://localhost:8080/"
        },
        "id": "IfGJxU03YEbW",
        "outputId": "e8b947f6-224d-49d8-f970-b942c5683e77"
      },
      "source": [
        "max_tokens = np.mean(num_tokens) + 2 * np.std(num_tokens)\n",
        "max_tokens = int(max_tokens)\n",
        "max_tokens"
      ],
      "execution_count": null,
      "outputs": [
        {
          "output_type": "execute_result",
          "data": {
            "text/plain": [
              "1"
            ]
          },
          "metadata": {},
          "execution_count": 110
        }
      ]
    },
    {
      "cell_type": "code",
      "metadata": {
        "id": "6j6qqb-TYEdr"
      },
      "source": [
        "x_train_pad = pad_sequences(x_train_tokens, maxlen=max_tokens)\n",
        "\n",
        "x_test_pad = pad_sequences(x_test_tokens, maxlen=max_tokens)\n",
        "\n"
      ],
      "execution_count": null,
      "outputs": []
    },
    {
      "cell_type": "code",
      "metadata": {
        "id": "qzzSUngOYR3X"
      },
      "source": [
        "x_train_tokens = tokenizer.texts_to_sequences(x_train)"
      ],
      "execution_count": null,
      "outputs": []
    },
    {
      "cell_type": "code",
      "metadata": {
        "id": "re5LdylAYR6s"
      },
      "source": [
        "x_test_tokens = tokenizer.texts_to_sequences(x_test)"
      ],
      "execution_count": null,
      "outputs": []
    },
    {
      "cell_type": "code",
      "metadata": {
        "id": "MSo8uT7lYEf6"
      },
      "source": [
        "idx = tokenizer.word_index\n",
        "inverse_map = dict(zip(idx.values(), idx.keys()))"
      ],
      "execution_count": null,
      "outputs": []
    },
    {
      "cell_type": "code",
      "metadata": {
        "id": "FhnG_WevNCKY"
      },
      "source": [
        "def tokens_to_string(tokens):\n",
        "    words = [inverse_map[token] for token in tokens if token!=0]\n",
        "    text = ' '.join(words)\n",
        "    return text"
      ],
      "execution_count": null,
      "outputs": []
    },
    {
      "cell_type": "code",
      "metadata": {
        "id": "51Qlx8W1MxBK"
      },
      "source": [
        "from tensorflow.keras.optimizers import SGD\n",
        "from keras.models import Sequential\n",
        "from keras.layers import Embedding, Conv1D, MaxPooling1D, Bidirectional, LSTM, Dense, Dropout , LSTM, SpatialDropout1D\n",
        "from keras.metrics import Precision, Recall\n",
        "from tensorflow.keras.optimizers import  RMSprop\n",
        "from keras import datasets\n",
        "from keras.callbacks import LearningRateScheduler\n",
        "from keras.callbacks import History\n",
        "from keras import losses\n"
      ],
      "execution_count": null,
      "outputs": []
    },
    {
      "cell_type": "code",
      "metadata": {
        "id": "pbgIPw6hNa_J"
      },
      "source": [
        "max_len=280\n",
        "\n",
        "model = Sequential()\n",
        "embedding_size = 50\n",
        "\n",
        "model.add(Embedding(input_dim=num_words,\n",
        "                    output_dim=embedding_size,\n",
        "                    input_length=max_len,\n",
        "                    name='embedding_layer'))\n",
        "\n",
        "model.add(GRU(units=16, return_sequences=True))\n",
        "model.add(GRU(units=8, return_sequences=True))\n",
        "model.add(GRU(units=4))\n",
        "model.add(Dense(2, activation='sigmoid'))"
      ],
      "execution_count": null,
      "outputs": []
    },
    {
      "cell_type": "code",
      "metadata": {
        "id": "OkqOYLaWqUlL",
        "colab": {
          "base_uri": "https://localhost:8080/"
        },
        "outputId": "852d534d-9525-4977-de8e-7e94d8111aa5"
      },
      "source": [
        "import tensorflow as tf\n",
        "tf.keras.utils.plot_model(model, show_shapes=True)"
      ],
      "execution_count": null,
      "outputs": [
        {
          "output_type": "execute_result",
          "data": {
            "image/png": "[encoded data removed]",
            "text/plain": [
              "<IPython.core.display.Image object>"
            ]
          },
          "metadata": {},
          "execution_count": 118
        }
      ]
    },
    {
      "cell_type": "code",
      "metadata": {
        "id": "Knzb4hSvpTyz"
      },
      "source": [
        "model.compile(loss='binary_crossentropy',\n",
        "              optimizer='adam',\n",
        "              metrics=['accuracy', Precision(), Recall()])"
      ],
      "execution_count": null,
      "outputs": []
    },
    {
      "cell_type": "code",
      "metadata": {
        "id": "TxaWyDujh5qv",
        "colab": {
          "base_uri": "https://localhost:8080/"
        },
        "outputId": "9a3b87df-fbca-46ee-dc55-69098d57bf37"
      },
      "source": [
        "Y = pd.get_dummies(data['sentiment']).values\n",
        "X_train, X_test, Y_train, Y_test = train_test_split(X,Y, test_size = 0.3, random_state = 42)\n",
        "print(X_train.shape,Y_train.shape)\n",
        "print(X_test.shape,Y_test.shape)"
      ],
      "execution_count": null,
      "outputs": [
        {
          "output_type": "stream",
          "name": "stdout",
          "text": [
            "(335469, 280) (335469, 2)\n",
            "(143773, 280) (143773, 2)\n"
          ]
        }
      ]
    },
    {
      "cell_type": "code",
      "metadata": {
        "id": "qpZGgzmwym32"
      },
      "source": [
        "callback = tf.keras.callbacks.EarlyStopping(monitor='accuracy', patience=2)"
      ],
      "execution_count": null,
      "outputs": []
    },
    {
      "cell_type": "code",
      "metadata": {
        "id": "joumNzq-ym32",
        "colab": {
          "base_uri": "https://localhost:8080/"
        },
        "outputId": "a7037962-2dee-4362-bec7-94cc6cb66a42"
      },
      "source": [
        "history=model.fit(X_train, Y_train, epochs=10, batch_size=512,validation_split=0.1,callbacks=[callback])"
      ],
      "execution_count": null,
      "outputs": [
        {
          "output_type": "stream",
          "name": "stdout",
          "text": [
            "Epoch 1/10\n",
            "590/590 [==============================] - 622s 1s/step - loss: 0.2835 - accuracy: 0.9186 - precision_3: 0.9195 - recall_3: 0.9172 - val_loss: 0.1979 - val_accuracy: 0.9329 - val_precision_3: 0.9355 - val_recall_3: 0.9304\n",
            "Epoch 2/10\n",
            "590/590 [==============================] - 611s 1s/step - loss: 0.1770 - accuracy: 0.9387 - precision_3: 0.9402 - recall_3: 0.9370 - val_loss: 0.1743 - val_accuracy: 0.9382 - val_precision_3: 0.9387 - val_recall_3: 0.9374\n",
            "Epoch 3/10\n",
            "590/590 [==============================] - 612s 1s/step - loss: 0.1579 - accuracy: 0.9442 - precision_3: 0.9445 - recall_3: 0.9436 - val_loss: 0.1640 - val_accuracy: 0.9400 - val_precision_3: 0.9403 - val_recall_3: 0.9402\n",
            "Epoch 4/10\n",
            "590/590 [==============================] - 612s 1s/step - loss: 0.1475 - accuracy: 0.9478 - precision_3: 0.9480 - recall_3: 0.9476 - val_loss: 0.1601 - val_accuracy: 0.9422 - val_precision_3: 0.9422 - val_recall_3: 0.9419\n",
            "Epoch 5/10\n",
            "590/590 [==============================] - 611s 1s/step - loss: 0.1407 - accuracy: 0.9503 - precision_3: 0.9504 - recall_3: 0.9501 - val_loss: 0.1591 - val_accuracy: 0.9434 - val_precision_3: 0.9432 - val_recall_3: 0.9431\n",
            "Epoch 6/10\n",
            "590/590 [==============================] - 611s 1s/step - loss: 0.1356 - accuracy: 0.9524 - precision_3: 0.9524 - recall_3: 0.9524 - val_loss: 0.1585 - val_accuracy: 0.9427 - val_precision_3: 0.9428 - val_recall_3: 0.9431\n",
            "Epoch 7/10\n",
            "590/590 [==============================] - 611s 1s/step - loss: 0.1311 - accuracy: 0.9543 - precision_3: 0.9542 - recall_3: 0.9543 - val_loss: 0.1590 - val_accuracy: 0.9428 - val_precision_3: 0.9426 - val_recall_3: 0.9428\n",
            "Epoch 8/10\n",
            "590/590 [==============================] - 610s 1s/step - loss: 0.1273 - accuracy: 0.9561 - precision_3: 0.9561 - recall_3: 0.9562 - val_loss: 0.1608 - val_accuracy: 0.9437 - val_precision_3: 0.9436 - val_recall_3: 0.9437\n",
            "Epoch 9/10\n",
            "590/590 [==============================] - 613s 1s/step - loss: 0.1235 - accuracy: 0.9580 - precision_3: 0.9579 - recall_3: 0.9582 - val_loss: 0.1608 - val_accuracy: 0.9439 - val_precision_3: 0.9437 - val_recall_3: 0.9441\n",
            "Epoch 10/10\n",
            "590/590 [==============================] - 612s 1s/step - loss: 0.1199 - accuracy: 0.9596 - precision_3: 0.9595 - recall_3: 0.9597 - val_loss: 0.1605 - val_accuracy: 0.9439 - val_precision_3: 0.9436 - val_recall_3: 0.9440\n"
          ]
        }
      ]
    },
    {
      "cell_type": "code",
      "metadata": {
        "id": "3BPvyR95iRuR",
        "colab": {
          "base_uri": "https://localhost:8080/"
        },
        "outputId": "3b7286f8-66ce-450a-cf51-519582cbae14"
      },
      "source": [
        " score = model.evaluate(X_test, Y_test,batch_size=512)\n"
      ],
      "execution_count": null,
      "outputs": [
        {
          "output_type": "stream",
          "name": "stdout",
          "text": [
            "281/281 [==============================] - 50s 177ms/step - loss: 0.1556 - accuracy: 0.9454 - precision_3: 0.9452 - recall_3: 0.9456\n"
          ]
        }
      ]
    },
    {
      "cell_type": "code",
      "metadata": {
        "colab": {
          "base_uri": "https://localhost:8080/"
        },
        "id": "9ddtpvaXOUx6",
        "outputId": "c33f14bc-799d-4f9f-9b47-843489304e32"
      },
      "source": [
        "print('Test loss:', score[0]) \n",
        "print('Test accuracy:', score[1])"
      ],
      "execution_count": null,
      "outputs": [
        {
          "output_type": "stream",
          "name": "stdout",
          "text": [
            "Test loss: 0.15562528371810913\n",
            "Test accuracy: 0.9453583359718323\n"
          ]
        }
      ]
    }
  ]
}